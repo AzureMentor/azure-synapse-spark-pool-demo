{
  "metadata": {
    "saveOutput": true,
    "language_info": {
      "name": "python"
    }
  },
  "nbformat": 4,
  "nbformat_minor": 2,
  "cells": [
    {
      "cell_type": "markdown",
      "metadata": {},
      "source": [
        "# Azure Synapse Analytics - Spark pool demo\n",
        "## Step 1: Create an ad-hoc table using PySpark and output this table to a Spark pool"
      ],
      "attachments": {}
    },
    {
      "cell_type": "code",
      "execution_count": 3,
      "outputs": [
        {
          "output_type": "execute_result",
          "execution_count": 3,
          "data": {
            "text/plain": "+----------+---+------+\n|     State|Age|Salary|\n+----------+---+------+\n|New Jersey| 24| 45000|\n|    Hawaii| 36| 70212|\n|  Maryland| 49| 83242|\n|California| 55| 75277|\n|    Alaska| 59| 74346|\n+----------+---+------+"
          },
          "metadata": {}
        }
      ],
      "metadata": {},
      "source": [
        "salary_data = [('New Jersey',24,45000), (\"Hawaii\",36,70212), (\"Maryland\",49,83242), (\"California\",55,75277), (\"Alaska\",59,74346)]\n",
        "spark_demo_df = spark.createDataFrame(salary_data, ['State', 'Age', 'Salary'])\n",
        "spark_demo_df.createOrReplaceTempView('spark_demo_df')\n",
        "spark_demo_df.show()"
      ],
      "attachments": {}
    },
    {
      "cell_type": "markdown",
      "metadata": {},
      "source": [
        "## Step 2: List the tables in the Spark pool\n",
        ""
      ],
      "attachments": {}
    },
    {
      "cell_type": "code",
      "execution_count": 4,
      "outputs": [
        {
          "output_type": "execute_result",
          "execution_count": 4,
          "data": {
            "application/json": {
              "rows": [
                [
                  "",
                  "spark_demo_df",
                  true
                ]
              ],
              "schema": [
                "database",
                "tableName",
                "isTemporary"
              ]
            }
          },
          "metadata": {}
        }
      ],
      "metadata": {},
      "source": [
        "%%sql\n",
        "SHOW TABLES"
      ],
      "attachments": {}
    },
    {
      "cell_type": "markdown",
      "metadata": {},
      "source": [
        "## Step 3: Run a SQL query to see the data in the Spark pool\n",
        ""
      ],
      "attachments": {}
    },
    {
      "cell_type": "code",
      "execution_count": 5,
      "outputs": [
        {
          "output_type": "execute_result",
          "execution_count": 5,
          "data": {
            "application/json": {
              "rows": [
                [
                  "New Jersey",
                  24,
                  45000
                ],
                [
                  "Hawaii",
                  36,
                  70212
                ],
                [
                  "Maryland",
                  49,
                  83242
                ],
                [
                  "California",
                  55,
                  75277
                ],
                [
                  "Alaska",
                  59,
                  74346
                ]
              ],
              "schema": [
                "State",
                "Age",
                "Salary"
              ]
            }
          },
          "metadata": {}
        }
      ],
      "metadata": {},
      "source": [
        "%%sql\n",
        "SELECT * FROM spark_demo_df"
      ],
      "attachments": {}
    },
    {
      "cell_type": "markdown",
      "metadata": {},
      "source": [
        "## Step 3 (alternative method): Get the same experience of running the SQL query using PySpark\n",
        ""
      ],
      "attachments": {}
    },
    {
      "cell_type": "code",
      "execution_count": 6,
      "outputs": [
        {
          "output_type": "execute_result",
          "execution_count": 6,
          "data": {
            "application/json": {
              "rows": [
                [
                  "New Jersey",
                  24,
                  45000
                ],
                [
                  "Hawaii",
                  36,
                  70212
                ],
                [
                  "Maryland",
                  49,
                  83242
                ],
                [
                  "California",
                  55,
                  75277
                ],
                [
                  "Alaska",
                  59,
                  74346
                ]
              ],
              "schema": [
                "State",
                "Age",
                "Salary"
              ]
            }
          },
          "metadata": {}
        }
      ],
      "metadata": {},
      "source": [
        "display(spark.sql('SELECT * FROM spark_demo_df'))"
      ],
      "attachments": {}
    }
  ]
}