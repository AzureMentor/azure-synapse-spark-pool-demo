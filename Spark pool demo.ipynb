{
  "metadata": {
    "saveOutput": true,
    "language_info": {
      "name": "python"
    }
  },
  "nbformat": 4,
  "nbformat_minor": 2,
  "cells": [
    {
      "cell_type": "code",
      "execution_count": 13,
      "outputs": [
        {
          "output_type": "execute_result",
          "execution_count": 13,
          "data": {
            "text/plain": "+----------+---+------+\n|     State|Age|Salary|\n+----------+---+------+\n|New Jersey| 24| 45000|\n|    Hawaii| 36| 70212|\n|  Maryland| 49| 83242|\n|California| 55| 75277|\n|    Alaska| 59| 74346|\n+----------+---+------+"
          },
          "metadata": {}
        }
      ],
      "metadata": {},
      "source": [
        "salary_data = [('New Jersey',24,45000), (\"Hawaii\",36,70212), (\"Maryland\",49,83242), (\"California\",55,75277), (\"Alaska\",59,74346)]\n",
        "spark_demo_df = spark.createDataFrame(salary_data, ['State', 'Age', 'Salary'])\n",
        "spark_demo_df.createOrReplaceTempView('spark_demo_df')\n",
        "spark_demo_df.show()"
      ],
      "attachments": {}
    },
    {
      "cell_type": "code",
      "execution_count": 14,
      "outputs": [
        {
          "output_type": "execute_result",
          "execution_count": 14,
          "data": {
            "application/json": {
              "rows": [
                [
                  "",
                  "spark_demo_df",
                  true
                ]
              ],
              "schema": [
                "database",
                "tableName",
                "isTemporary"
              ]
            }
          },
          "metadata": {}
        }
      ],
      "metadata": {},
      "source": [
        "%%sql\n",
        "SHOW TABLES"
      ],
      "attachments": {}
    },
    {
      "cell_type": "code",
      "execution_count": 15,
      "outputs": [
        {
          "output_type": "execute_result",
          "execution_count": 15,
          "data": {
            "application/json": {
              "rows": [
                [
                  "New Jersey",
                  24,
                  45000
                ],
                [
                  "Hawaii",
                  36,
                  70212
                ],
                [
                  "Maryland",
                  49,
                  83242
                ],
                [
                  "California",
                  55,
                  75277
                ],
                [
                  "Alaska",
                  59,
                  74346
                ]
              ],
              "schema": [
                "State",
                "Age",
                "Salary"
              ]
            }
          },
          "metadata": {}
        }
      ],
      "metadata": {},
      "source": [
        "%%sql\n",
        "SELECT * FROM spark_demo_df"
      ],
      "attachments": {}
    },
    {
      "cell_type": "code",
      "execution_count": 12,
      "outputs": [
        {
          "output_type": "execute_result",
          "execution_count": 12,
          "data": {
            "application/json": {
              "rows": [
                [
                  "New Jersey",
                  24,
                  45000
                ],
                [
                  "Hawaii",
                  36,
                  70212
                ],
                [
                  "Maryland",
                  49,
                  83242
                ],
                [
                  "California",
                  55,
                  75277
                ],
                [
                  "Alaska",
                  59,
                  74346
                ]
              ],
              "schema": [
                "State",
                "Age",
                "Salary"
              ]
            }
          },
          "metadata": {}
        }
      ],
      "metadata": {},
      "source": [
        "display(spark.sql('SELECT * FROM spark_demo_df'))"
      ],
      "attachments": {}
    }
  ]
}